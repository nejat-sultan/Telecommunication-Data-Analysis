{
 "cells": [
  {
   "cell_type": "code",
   "execution_count": 7,
   "id": "cc70f227-4f29-4e9c-93a7-6b9fdec86b2e",
   "metadata": {},
   "outputs": [
    {
     "name": "stdout",
     "output_type": "stream",
     "text": [
      "   MSISDN/Number  Dur. (ms)  Total DL (Bytes)  Total UL (Bytes)  Start  \\\n",
      "0   3.360100e+10   116720.0      8.426375e+08        36053108.0      1   \n",
      "1   3.360100e+10   181230.0      1.207552e+08        36104459.0      1   \n",
      "2   3.360100e+10   134969.0      5.566597e+08        39306820.0      1   \n",
      "3   3.360101e+10    49878.0      4.019932e+08        20327526.0      1   \n",
      "4   3.360101e+10    37104.0      1.363130e+09        94280527.0      2   \n",
      "\n",
      "   cluster  \n",
      "0        0  \n",
      "1        0  \n",
      "2        0  \n",
      "3        0  \n",
      "4        2  \n",
      "   MSISDN/Number  TCP DL Retrans. Vol (Bytes)  Avg RTT DL (ms)  \\\n",
      "0   3.360100e+10                 2.080991e+07        46.000000   \n",
      "1   3.360100e+10                 2.080991e+07        30.000000   \n",
      "2   3.360100e+10                 2.080991e+07       109.795706   \n",
      "3   3.360101e+10                 1.066000e+03        69.000000   \n",
      "4   3.360101e+10                 1.507977e+07        57.000000   \n",
      "\n",
      "   Avg Bearer TP DL (kbps)                    Handset Type  cluster  \n",
      "0                     37.0  Huawei P20 Lite Huawei Nova 3E        0  \n",
      "1                     48.0          Apple iPhone 7 (A1778)        0  \n",
      "2                     48.0                       undefined        0  \n",
      "3                    204.0         Apple iPhone 5S (A1457)        1  \n",
      "4                  20197.5         Apple iPhone Se (A1723)        1  \n"
     ]
    }
   ],
   "source": [
    "import sys\n",
    "import os\n",
    "import pandas as pd # type: ignore\n",
    "import numpy as np # type: ignore\n",
    "from sklearn.cluster import KMeans # type: ignore\n",
    "from sklearn.metrics.pairwise import euclidean_distances # type: ignore\n",
    "from sklearn.linear_model import LinearRegression # type: ignore\n",
    "import matplotlib.pyplot as plt # type: ignore\n",
    "import seaborn as sns # type: ignore\n",
    "sys.path.append(os.path.abspath('C:/Users/nejat/AIM Projects/Telecommunication Data Analysis/src'))\n",
    "from db_connection import PostgresConnection\n",
    "from data_cleaning import preprocess_data  \n",
    "\n",
    "engagement_df = pd.read_csv('user_engagement_results.csv')\n",
    "experience_df = pd.read_csv('experience_analysis_results.csv')\n",
    "\n",
    "print(engagement_df.head())\n",
    "print(experience_df.head())"
   ]
  },
  {
   "cell_type": "code",
   "execution_count": 12,
   "id": "ba9cc8f8-7085-4aa4-a2a2-184df8c76fa2",
   "metadata": {},
   "outputs": [
    {
     "ename": "KeyError",
     "evalue": "\"None of [Index(['session_frequency', 'session_duration', 'total_traffic'], dtype='object')] are in the [columns]\"",
     "output_type": "error",
     "traceback": [
      "\u001b[1;31m---------------------------------------------------------------------------\u001b[0m",
      "\u001b[1;31mKeyError\u001b[0m                                  Traceback (most recent call last)",
      "Cell \u001b[1;32mIn[12], line 21\u001b[0m\n\u001b[0;32m     17\u001b[0m     combined_df[\u001b[38;5;124m'\u001b[39m\u001b[38;5;124msatisfaction_score\u001b[39m\u001b[38;5;124m'\u001b[39m] \u001b[38;5;241m=\u001b[39m (combined_df[\u001b[38;5;124m'\u001b[39m\u001b[38;5;124mengagement_score\u001b[39m\u001b[38;5;124m'\u001b[39m] \u001b[38;5;241m+\u001b[39m combined_df[\u001b[38;5;124m'\u001b[39m\u001b[38;5;124mexperience_score\u001b[39m\u001b[38;5;124m'\u001b[39m]) \u001b[38;5;241m/\u001b[39m \u001b[38;5;241m2\u001b[39m\n\u001b[0;32m     18\u001b[0m     \u001b[38;5;28;01mreturn\u001b[39;00m combined_df\n\u001b[1;32m---> 21\u001b[0m combined_df \u001b[38;5;241m=\u001b[39m calculate_engagement_experience_scores(engagement_df, experience_df)\n\u001b[0;32m     23\u001b[0m \u001b[38;5;28mprint\u001b[39m(combined_df\u001b[38;5;241m.\u001b[39mcolumns)\n\u001b[0;32m     24\u001b[0m top_10_satisfied_customers \u001b[38;5;241m=\u001b[39m combined_df[[\u001b[38;5;124m'\u001b[39m\u001b[38;5;124mMSISDN/Number\u001b[39m\u001b[38;5;124m'\u001b[39m, \u001b[38;5;124m'\u001b[39m\u001b[38;5;124msatisfaction_score\u001b[39m\u001b[38;5;124m'\u001b[39m]]\u001b[38;5;241m.\u001b[39msort_values(by\u001b[38;5;241m=\u001b[39m\u001b[38;5;124m'\u001b[39m\u001b[38;5;124msatisfaction_score\u001b[39m\u001b[38;5;124m'\u001b[39m)\u001b[38;5;241m.\u001b[39mhead(\u001b[38;5;241m10\u001b[39m)\n",
      "Cell \u001b[1;32mIn[12], line 5\u001b[0m, in \u001b[0;36mcalculate_engagement_experience_scores\u001b[1;34m(engagement_df, experience_df)\u001b[0m\n\u001b[0;32m      2\u001b[0m combined_df \u001b[38;5;241m=\u001b[39m pd\u001b[38;5;241m.\u001b[39mmerge(engagement_df, experience_df, on\u001b[38;5;241m=\u001b[39m\u001b[38;5;124m'\u001b[39m\u001b[38;5;124mMSISDN/Number\u001b[39m\u001b[38;5;124m'\u001b[39m)\n\u001b[0;32m      4\u001b[0m kmeans_engagement \u001b[38;5;241m=\u001b[39m KMeans(n_clusters\u001b[38;5;241m=\u001b[39m\u001b[38;5;241m3\u001b[39m, random_state\u001b[38;5;241m=\u001b[39m\u001b[38;5;241m42\u001b[39m)\n\u001b[1;32m----> 5\u001b[0m engagement_clusters \u001b[38;5;241m=\u001b[39m kmeans_engagement\u001b[38;5;241m.\u001b[39mfit_predict(combined_df[[\u001b[38;5;124m'\u001b[39m\u001b[38;5;124msession_frequency\u001b[39m\u001b[38;5;124m'\u001b[39m, \u001b[38;5;124m'\u001b[39m\u001b[38;5;124msession_duration\u001b[39m\u001b[38;5;124m'\u001b[39m, \u001b[38;5;124m'\u001b[39m\u001b[38;5;124mtotal_traffic\u001b[39m\u001b[38;5;124m'\u001b[39m]])\n\u001b[0;32m      6\u001b[0m least_engaged_centroid \u001b[38;5;241m=\u001b[39m kmeans_engagement\u001b[38;5;241m.\u001b[39mcluster_centers_[\u001b[38;5;241m0\u001b[39m] \n\u001b[0;32m      8\u001b[0m combined_df[\u001b[38;5;124m'\u001b[39m\u001b[38;5;124mengagement_score\u001b[39m\u001b[38;5;124m'\u001b[39m] \u001b[38;5;241m=\u001b[39m euclidean_distances(combined_df[[\u001b[38;5;124m'\u001b[39m\u001b[38;5;124msession_frequency\u001b[39m\u001b[38;5;124m'\u001b[39m, \u001b[38;5;124m'\u001b[39m\u001b[38;5;124msession_duration\u001b[39m\u001b[38;5;124m'\u001b[39m, \u001b[38;5;124m'\u001b[39m\u001b[38;5;124mtotal_traffic\u001b[39m\u001b[38;5;124m'\u001b[39m]], \n\u001b[0;32m      9\u001b[0m                                                      [least_engaged_centroid])\u001b[38;5;241m.\u001b[39mflatten()\n",
      "File \u001b[1;32m~\\anaconda3\\Lib\\site-packages\\pandas\\core\\frame.py:3899\u001b[0m, in \u001b[0;36mDataFrame.__getitem__\u001b[1;34m(self, key)\u001b[0m\n\u001b[0;32m   3897\u001b[0m     \u001b[38;5;28;01mif\u001b[39;00m is_iterator(key):\n\u001b[0;32m   3898\u001b[0m         key \u001b[38;5;241m=\u001b[39m \u001b[38;5;28mlist\u001b[39m(key)\n\u001b[1;32m-> 3899\u001b[0m     indexer \u001b[38;5;241m=\u001b[39m \u001b[38;5;28mself\u001b[39m\u001b[38;5;241m.\u001b[39mcolumns\u001b[38;5;241m.\u001b[39m_get_indexer_strict(key, \u001b[38;5;124m\"\u001b[39m\u001b[38;5;124mcolumns\u001b[39m\u001b[38;5;124m\"\u001b[39m)[\u001b[38;5;241m1\u001b[39m]\n\u001b[0;32m   3901\u001b[0m \u001b[38;5;66;03m# take() does not accept boolean indexers\u001b[39;00m\n\u001b[0;32m   3902\u001b[0m \u001b[38;5;28;01mif\u001b[39;00m \u001b[38;5;28mgetattr\u001b[39m(indexer, \u001b[38;5;124m\"\u001b[39m\u001b[38;5;124mdtype\u001b[39m\u001b[38;5;124m\"\u001b[39m, \u001b[38;5;28;01mNone\u001b[39;00m) \u001b[38;5;241m==\u001b[39m \u001b[38;5;28mbool\u001b[39m:\n",
      "File \u001b[1;32m~\\anaconda3\\Lib\\site-packages\\pandas\\core\\indexes\\base.py:6115\u001b[0m, in \u001b[0;36mIndex._get_indexer_strict\u001b[1;34m(self, key, axis_name)\u001b[0m\n\u001b[0;32m   6112\u001b[0m \u001b[38;5;28;01melse\u001b[39;00m:\n\u001b[0;32m   6113\u001b[0m     keyarr, indexer, new_indexer \u001b[38;5;241m=\u001b[39m \u001b[38;5;28mself\u001b[39m\u001b[38;5;241m.\u001b[39m_reindex_non_unique(keyarr)\n\u001b[1;32m-> 6115\u001b[0m \u001b[38;5;28mself\u001b[39m\u001b[38;5;241m.\u001b[39m_raise_if_missing(keyarr, indexer, axis_name)\n\u001b[0;32m   6117\u001b[0m keyarr \u001b[38;5;241m=\u001b[39m \u001b[38;5;28mself\u001b[39m\u001b[38;5;241m.\u001b[39mtake(indexer)\n\u001b[0;32m   6118\u001b[0m \u001b[38;5;28;01mif\u001b[39;00m \u001b[38;5;28misinstance\u001b[39m(key, Index):\n\u001b[0;32m   6119\u001b[0m     \u001b[38;5;66;03m# GH 42790 - Preserve name from an Index\u001b[39;00m\n",
      "File \u001b[1;32m~\\anaconda3\\Lib\\site-packages\\pandas\\core\\indexes\\base.py:6176\u001b[0m, in \u001b[0;36mIndex._raise_if_missing\u001b[1;34m(self, key, indexer, axis_name)\u001b[0m\n\u001b[0;32m   6174\u001b[0m     \u001b[38;5;28;01mif\u001b[39;00m use_interval_msg:\n\u001b[0;32m   6175\u001b[0m         key \u001b[38;5;241m=\u001b[39m \u001b[38;5;28mlist\u001b[39m(key)\n\u001b[1;32m-> 6176\u001b[0m     \u001b[38;5;28;01mraise\u001b[39;00m \u001b[38;5;167;01mKeyError\u001b[39;00m(\u001b[38;5;124mf\u001b[39m\u001b[38;5;124m\"\u001b[39m\u001b[38;5;124mNone of [\u001b[39m\u001b[38;5;132;01m{\u001b[39;00mkey\u001b[38;5;132;01m}\u001b[39;00m\u001b[38;5;124m] are in the [\u001b[39m\u001b[38;5;132;01m{\u001b[39;00maxis_name\u001b[38;5;132;01m}\u001b[39;00m\u001b[38;5;124m]\u001b[39m\u001b[38;5;124m\"\u001b[39m)\n\u001b[0;32m   6178\u001b[0m not_found \u001b[38;5;241m=\u001b[39m \u001b[38;5;28mlist\u001b[39m(ensure_index(key)[missing_mask\u001b[38;5;241m.\u001b[39mnonzero()[\u001b[38;5;241m0\u001b[39m]]\u001b[38;5;241m.\u001b[39munique())\n\u001b[0;32m   6179\u001b[0m \u001b[38;5;28;01mraise\u001b[39;00m \u001b[38;5;167;01mKeyError\u001b[39;00m(\u001b[38;5;124mf\u001b[39m\u001b[38;5;124m\"\u001b[39m\u001b[38;5;132;01m{\u001b[39;00mnot_found\u001b[38;5;132;01m}\u001b[39;00m\u001b[38;5;124m not in index\u001b[39m\u001b[38;5;124m\"\u001b[39m)\n",
      "\u001b[1;31mKeyError\u001b[0m: \"None of [Index(['session_frequency', 'session_duration', 'total_traffic'], dtype='object')] are in the [columns]\""
     ]
    }
   ],
   "source": [
    "def calculate_engagement_experience_scores(engagement_df, experience_df):\n",
    "   \n",
    "    \n",
    "\n",
    "    kmeans_engagement = KMeans(n_clusters=3, random_state=42)\n",
    "    engagement_clusters = kmeans_engagement.fit_predict(combined_df[['Dur. (ms)', 'Total DL (Bytes)', 'Total UL (Bytes)']])\n",
    "    least_engaged_centroid = kmeans_engagement.cluster_centers_[0] \n",
    "\n",
    "    combined_df['engagement_score'] = euclidean_distances(combined_df[['Dur. (ms)', 'Total DL (Bytes)', 'total_traffic']], \n",
    "                                                         [least_engaged_centroid]).flatten()\n",
    "\n",
    "    kmeans_experience = KMeans(n_clusters=3, random_state=42)\n",
    "    experience_clusters = kmeans_experience.fit_predict(combined_df[['TCP DL Retrans. Vol (Bytes)', 'Avg RTT DL (ms)', 'Avg Bearer TP DL (kbps)']])\n",
    "    worst_experience_centroid = kmeans_experience.cluster_centers_[0]  \n",
    "\n",
    "    combined_df['experience_score'] = euclidean_distances(combined_df[['TCP DL Retrans. Vol (Bytes)', 'Avg RTT DL (ms)', 'Avg Bearer TP DL (kbps)']], \n",
    "                                                           [worst_experience_centroid]).flatten()\n",
    "    combined_df['satisfaction_score'] = (combined_df['engagement_score'] + combined_df['experience_score']) / 2\n",
    "    return combined_df\n",
    "\n",
    "\n",
    "combined_df = calculate_engagement_experience_scores(engagement_df, experience_df)\n",
    "\n",
    "top_10_satisfied_customers = combined_df[['MSISDN/Number', 'satisfaction_score']].sort_values(by='satisfaction_score').head(10)\n",
    "print(top_10_satisfied_customers)"
   ]
  },
  {
   "cell_type": "code",
   "execution_count": 13,
   "id": "455593ca-fc35-43cc-8596-84e61a2d49ac",
   "metadata": {},
   "outputs": [
    {
     "name": "stdout",
     "output_type": "stream",
     "text": [
      "Index(['MSISDN/Number', 'Dur. (ms)', 'Total DL (Bytes)', 'Total UL (Bytes)',\n",
      "       'Start', 'cluster_x', 'TCP DL Retrans. Vol (Bytes)', 'Avg RTT DL (ms)',\n",
      "       'Avg Bearer TP DL (kbps)', 'Handset Type', 'cluster_y'],\n",
      "      dtype='object')\n"
     ]
    }
   ],
   "source": [
    " combined_df = pd.merge(engagement_df, experience_df, on='MSISDN/Number')\n",
    "print(combined_df.columns)"
   ]
  },
  {
   "cell_type": "code",
   "execution_count": null,
   "id": "7bcbb705-2950-42ea-a377-935644aa550b",
   "metadata": {},
   "outputs": [],
   "source": []
  }
 ],
 "metadata": {
  "kernelspec": {
   "display_name": "Python 3 (ipykernel)",
   "language": "python",
   "name": "python3"
  },
  "language_info": {
   "codemirror_mode": {
    "name": "ipython",
    "version": 3
   },
   "file_extension": ".py",
   "mimetype": "text/x-python",
   "name": "python",
   "nbconvert_exporter": "python",
   "pygments_lexer": "ipython3",
   "version": "3.11.7"
  }
 },
 "nbformat": 4,
 "nbformat_minor": 5
}
