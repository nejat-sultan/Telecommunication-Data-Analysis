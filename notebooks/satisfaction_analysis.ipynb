{
 "cells": [
  {
   "cell_type": "code",
   "execution_count": 1,
   "id": "cc70f227-4f29-4e9c-93a7-6b9fdec86b2e",
   "metadata": {},
   "outputs": [
    {
     "name": "stdout",
     "output_type": "stream",
     "text": [
      "   MSISDN/Number  Dur. (ms)  Total DL (Bytes)  Total UL (Bytes)  Start  \\\n",
      "0   3.360100e+10   116720.0      8.426375e+08        36053108.0      1   \n",
      "1   3.360100e+10   181230.0      1.207552e+08        36104459.0      1   \n",
      "2   3.360100e+10   134969.0      5.566597e+08        39306820.0      1   \n",
      "3   3.360101e+10    49878.0      4.019932e+08        20327526.0      1   \n",
      "4   3.360101e+10    37104.0      1.363130e+09        94280527.0      2   \n",
      "\n",
      "   cluster  \n",
      "0        0  \n",
      "1        0  \n",
      "2        0  \n",
      "3        0  \n",
      "4        2  \n",
      "   MSISDN/Number  TCP DL Retrans. Vol (Bytes)  Avg RTT DL (ms)  \\\n",
      "0   3.360100e+10                 2.080991e+07        46.000000   \n",
      "1   3.360100e+10                 2.080991e+07        30.000000   \n",
      "2   3.360100e+10                 2.080991e+07       109.795706   \n",
      "3   3.360101e+10                 1.066000e+03        69.000000   \n",
      "4   3.360101e+10                 1.507977e+07        57.000000   \n",
      "\n",
      "   Avg Bearer TP DL (kbps)                    Handset Type  cluster  \n",
      "0                     37.0  Huawei P20 Lite Huawei Nova 3E        0  \n",
      "1                     48.0          Apple iPhone 7 (A1778)        0  \n",
      "2                     48.0                       undefined        0  \n",
      "3                    204.0         Apple iPhone 5S (A1457)        1  \n",
      "4                  20197.5         Apple iPhone Se (A1723)        1  \n"
     ]
    }
   ],
   "source": [
    "import sys\n",
    "import os\n",
    "import pandas as pd # type: ignore\n",
    "import numpy as np # type: ignore\n",
    "from sklearn.cluster import KMeans # type: ignore\n",
    "from sklearn.metrics.pairwise import euclidean_distances # type: ignore\n",
    "from sklearn.linear_model import LinearRegression # type: ignore\n",
    "from sklearn.model_selection import train_test_split\n",
    "from sklearn.metrics import mean_squared_error\n",
    "import matplotlib.pyplot as plt # type: ignore\n",
    "import seaborn as sns # type: ignore\n",
    "sys.path.append(os.path.abspath('C:/Users/nejat/AIM Projects/Telecommunication Data Analysis/src'))\n",
    "from db_connection import PostgresConnection\n",
    "from data_cleaning import preprocess_data  \n",
    "import psycopg2\n",
    "from psycopg2.extras import execute_values\n",
    "\n",
    "engagement_df = pd.read_csv('user_engagement_results.csv')\n",
    "experience_df = pd.read_csv('experience_analysis_results.csv')\n",
    "\n",
    "print(engagement_df.head())\n",
    "print(experience_df.head())"
   ]
  },
  {
   "cell_type": "code",
   "execution_count": 2,
   "id": "ba9cc8f8-7085-4aa4-a2a2-184df8c76fa2",
   "metadata": {},
   "outputs": [
    {
     "name": "stderr",
     "output_type": "stream",
     "text": [
      "C:\\Users\\nejat\\anaconda3\\Lib\\site-packages\\sklearn\\cluster\\_kmeans.py:870: FutureWarning: The default value of `n_init` will change from 10 to 'auto' in 1.4. Set the value of `n_init` explicitly to suppress the warning\n",
      "  warnings.warn(\n",
      "C:\\Users\\nejat\\anaconda3\\Lib\\site-packages\\sklearn\\cluster\\_kmeans.py:870: FutureWarning: The default value of `n_init` will change from 10 to 'auto' in 1.4. Set the value of `n_init` explicitly to suppress the warning\n",
      "  warnings.warn(\n"
     ]
    },
    {
     "name": "stdout",
     "output_type": "stream",
     "text": [
      "        MSISDN/Number  satisfaction_score\n",
      "30153    3.365825e+10        2.380003e+06\n",
      "42669    3.366106e+10        3.454811e+06\n",
      "67560    3.366795e+10        4.755155e+06\n",
      "49573    3.366268e+10        4.755995e+06\n",
      "67561    3.366795e+10        4.908502e+06\n",
      "100494   3.376388e+10        5.522642e+06\n",
      "46237    3.366191e+10        6.153185e+06\n",
      "59908    3.366541e+10        6.256232e+06\n",
      "41908    3.366086e+10        6.385396e+06\n",
      "88677    3.369947e+10        6.416834e+06\n"
     ]
    }
   ],
   "source": [
    "def calculate_engagement_experience_scores(engagement_df, experience_df):\n",
    "    combined_df = pd.merge(engagement_df, experience_df, on='MSISDN/Number')\n",
    "    \n",
    "    kmeans_engagement = KMeans(n_clusters=3, random_state=42)\n",
    "    engagement_clusters = kmeans_engagement.fit_predict(combined_df[['Dur. (ms)', 'Total DL (Bytes)', 'Total UL (Bytes)']])\n",
    "    least_engaged_centroid = kmeans_engagement.cluster_centers_[0] \n",
    "\n",
    "    combined_df['engagement_score'] = euclidean_distances(combined_df[['Dur. (ms)', 'Total DL (Bytes)', 'Total UL (Bytes)']], \n",
    "                                                         [least_engaged_centroid]).flatten()\n",
    "\n",
    "    kmeans_experience = KMeans(n_clusters=3, random_state=42)\n",
    "    experience_clusters = kmeans_experience.fit_predict(combined_df[['TCP DL Retrans. Vol (Bytes)', 'Avg RTT DL (ms)', 'Avg Bearer TP DL (kbps)']])\n",
    "    worst_experience_centroid = kmeans_experience.cluster_centers_[0]  \n",
    "\n",
    "    combined_df['experience_score'] = euclidean_distances(combined_df[['TCP DL Retrans. Vol (Bytes)', 'Avg RTT DL (ms)', 'Avg Bearer TP DL (kbps)']], \n",
    "                                                           [worst_experience_centroid]).flatten()\n",
    "    combined_df['satisfaction_score'] = (combined_df['engagement_score'] + combined_df['experience_score']) / 2\n",
    "    return combined_df\n",
    "\n",
    "\n",
    "combined_df = calculate_engagement_experience_scores(engagement_df, experience_df)\n",
    "\n",
    "top_10_satisfied_customers = combined_df[['MSISDN/Number', 'satisfaction_score']].sort_values(by='satisfaction_score').head(10)\n",
    "print(top_10_satisfied_customers)"
   ]
  },
  {
   "cell_type": "code",
   "execution_count": 3,
   "id": "7bcbb705-2950-42ea-a377-935644aa550b",
   "metadata": {},
   "outputs": [
    {
     "name": "stdout",
     "output_type": "stream",
     "text": [
      "Mean Squared Error of the model: 0.0000\n"
     ]
    }
   ],
   "source": [
    "X = combined_df[['engagement_score', 'experience_score']]\n",
    "y = combined_df['satisfaction_score']\n",
    "\n",
    "X_train, X_test, y_train, y_test = train_test_split(X, y, test_size=0.2, random_state=42)\n",
    "\n",
    "model = LinearRegression()\n",
    "model.fit(X_train, y_train)\n",
    "\n",
    "y_pred = model.predict(X_test)\n",
    "\n",
    "mse = mean_squared_error(y_test, y_pred)\n",
    "print(f\"Mean Squared Error of the model: {mse:.4f}\")"
   ]
  },
  {
   "cell_type": "code",
   "execution_count": 4,
   "id": "edc7bddb-a4e7-49f8-8b89-85146e6fa99c",
   "metadata": {},
   "outputs": [
    {
     "name": "stderr",
     "output_type": "stream",
     "text": [
      "C:\\Users\\nejat\\anaconda3\\Lib\\site-packages\\sklearn\\cluster\\_kmeans.py:870: FutureWarning: The default value of `n_init` will change from 10 to 'auto' in 1.4. Set the value of `n_init` explicitly to suppress the warning\n",
      "  warnings.warn(\n"
     ]
    },
    {
     "name": "stdout",
     "output_type": "stream",
     "text": [
      "   MSISDN/Number  Dur. (ms)  Total DL (Bytes)  Total UL (Bytes)  Start  \\\n",
      "0   3.360100e+10   116720.0      8.426375e+08        36053108.0      1   \n",
      "1   3.360100e+10   181230.0      1.207552e+08        36104459.0      1   \n",
      "2   3.360100e+10   134969.0      5.566597e+08        39306820.0      1   \n",
      "3   3.360101e+10    49878.0      4.019932e+08        20327526.0      1   \n",
      "4   3.360101e+10    37104.0      1.363130e+09        94280527.0      2   \n",
      "\n",
      "   cluster_x  TCP DL Retrans. Vol (Bytes)  Avg RTT DL (ms)  \\\n",
      "0          0                 2.080991e+07        46.000000   \n",
      "1          0                 2.080991e+07        30.000000   \n",
      "2          0                 2.080991e+07       109.795706   \n",
      "3          0                 1.066000e+03        69.000000   \n",
      "4          2                 1.507977e+07        57.000000   \n",
      "\n",
      "   Avg Bearer TP DL (kbps)                    Handset Type  cluster_y  \\\n",
      "0                     37.0  Huawei P20 Lite Huawei Nova 3E          0   \n",
      "1                     48.0          Apple iPhone 7 (A1778)          0   \n",
      "2                     48.0                       undefined          0   \n",
      "3                    204.0         Apple iPhone 5S (A1457)          1   \n",
      "4                  20197.5         Apple iPhone Se (A1723)          1   \n",
      "\n",
      "   engagement_score  experience_score  satisfaction_score  \\\n",
      "0      8.730792e+08      1.700644e+07        4.450428e+08   \n",
      "1      1.592802e+09      1.700644e+07        8.049041e+08   \n",
      "2      1.157630e+09      1.700644e+07        5.873182e+08   \n",
      "3      1.313310e+09      3.802498e+06        6.585564e+08   \n",
      "4      3.493708e+08      1.127628e+07        1.803235e+08   \n",
      "\n",
      "   experience_engagement_cluster  \n",
      "0                              1  \n",
      "1                              0  \n",
      "2                              0  \n",
      "3                              0  \n",
      "4                              1  \n"
     ]
    }
   ],
   "source": [
    "features = combined_df[['engagement_score', 'experience_score']]\n",
    "\n",
    "kmeans = KMeans(n_clusters=2, random_state=42)\n",
    "combined_df['experience_engagement_cluster'] = kmeans.fit_predict(features)\n",
    "\n",
    "print(combined_df.head())"
   ]
  },
  {
   "cell_type": "code",
   "execution_count": 5,
   "id": "ad676a2d-e80c-4b71-82ea-ab2241b269f0",
   "metadata": {},
   "outputs": [
    {
     "name": "stdout",
     "output_type": "stream",
     "text": [
      "Index(['MSISDN/Number', 'Dur. (ms)', 'Total DL (Bytes)', 'Total UL (Bytes)',\n",
      "       'Start', 'cluster_x', 'TCP DL Retrans. Vol (Bytes)', 'Avg RTT DL (ms)',\n",
      "       'Avg Bearer TP DL (kbps)', 'Handset Type', 'cluster_y',\n",
      "       'engagement_score', 'experience_score', 'satisfaction_score',\n",
      "       'experience_engagement_cluster'],\n",
      "      dtype='object')\n"
     ]
    }
   ],
   "source": [
    "print(combined_df.columns)"
   ]
  },
  {
   "cell_type": "code",
   "execution_count": 6,
   "id": "1baef5bc-30ff-40e2-b245-71be5e011697",
   "metadata": {},
   "outputs": [
    {
     "name": "stdout",
     "output_type": "stream",
     "text": [
      "Cluster Summary:\n",
      "                                satisfaction_score  experience_score\n",
      "experience_engagement_cluster                                      \n",
      "0                                    6.857367e+08      1.313037e+07\n",
      "1                                    3.825166e+08      1.239207e+07\n"
     ]
    }
   ],
   "source": [
    "cluster_summary = combined_df.groupby('experience_engagement_cluster')[['satisfaction_score', 'experience_score']].mean()\n",
    "print(\"Cluster Summary:\\n\", cluster_summary)"
   ]
  },
  {
   "cell_type": "code",
   "execution_count": null,
   "id": "c7aa06eb-21df-4dd7-a7a6-91cdbee7c432",
   "metadata": {},
   "outputs": [],
   "source": [
    "def export_to_postgres(df, table_name):\n",
    "    connection = psycopg2.connect(\n",
    "        host=\"localhost\",\n",
    "        user=\"postgres\",\n",
    "        password=\"237132\",\n",
    "        database=\"tellco\"\n",
    "    )\n",
    "    cursor = connection.cursor()\n",
    "\n",
    "    cursor.execute(f\"\"\"\n",
    "    CREATE TABLE IF NOT EXISTS {table_name} (\n",
    "        msisdn_number VARCHAR(255),\n",
    "        engagement_score FLOAT,\n",
    "        experience_score FLOAT,\n",
    "        satisfaction_score FLOAT,\n",
    "        experience_engagement_cluster INT\n",
    "    );\n",
    "    \"\"\")\n",
    "    \n",
    "    required_columns = ['MSISDN/Number', 'engagement_score', 'experience_score', 'satisfaction_score', \n",
    "                         'experience_engagement_cluster']\n",
    "    \n",
    "    missing_columns = [col for col in required_columns if col not in df.columns]\n",
    "    \n",
    "    if missing_columns:\n",
    "        print(f\"Missing columns in DataFrame: {missing_columns}\")\n",
    "        return\n",
    "\n",
    "    data = [\n",
    "        (\n",
    "            row['MSISDN/Number'], \n",
    "            row['engagement_score'], \n",
    "            row['experience_score'], \n",
    "            row['satisfaction_score'],\n",
    "            row['experience_engagement_cluster']\n",
    "        )\n",
    "        for _, row in df.iterrows()\n",
    "    ]\n",
    "\n",
    "    query = f\"\"\"\n",
    "    INSERT INTO {table_name} (\n",
    "        msisdn_number, engagement_score, experience_score, satisfaction_score, experience_engagement_cluster\n",
    "    ) VALUES %s;\n",
    "    \"\"\"\n",
    "    \n",
    "    execute_values(cursor, query, data)\n",
    "\n",
    "    connection.commit()\n",
    "    cursor.close()\n",
    "    connection.close()\n",
    "\n",
    "export_to_postgres(combined_df, 'user_satisfaction_data')"
   ]
  },
  {
   "cell_type": "code",
   "execution_count": 11,
   "id": "1aa46dce-4113-4204-90c8-6f20fc751d33",
   "metadata": {},
   "outputs": [
    {
     "name": "stdout",
     "output_type": "stream",
     "text": [
      "Sample data from PostgreSQL:\n",
      "    msisdn_number  engagement_score  experience_score  satisfaction_score  \\\n",
      "0  33601001722.0      8.730792e+08      1.700644e+07        4.450428e+08   \n",
      "1  33601001754.0      1.592802e+09      1.700644e+07        8.049041e+08   \n",
      "2  33601002511.0      1.157630e+09      1.700644e+07        5.873182e+08   \n",
      "3  33601007832.0      1.313310e+09      3.802498e+06        6.585564e+08   \n",
      "4  33601008617.0      3.493708e+08      1.127628e+07        1.803235e+08   \n",
      "\n",
      "  engagement_cluster experience_cluster  experience_engagement_cluster  \n",
      "0               None               None                              1  \n",
      "1               None               None                              0  \n",
      "2               None               None                              0  \n",
      "3               None               None                              0  \n",
      "4               None               None                              1  \n"
     ]
    },
    {
     "name": "stderr",
     "output_type": "stream",
     "text": [
      "C:\\Users\\nejat\\AppData\\Local\\Temp\\ipykernel_20236\\1226917414.py:9: UserWarning: pandas only supports SQLAlchemy connectable (engine/connection) or database string URI or sqlite3 DBAPI2 connection. Other DBAPI2 objects are not tested. Please consider using SQLAlchemy.\n",
      "  df = pd.read_sql(query, connection)\n"
     ]
    }
   ],
   "source": [
    "def query_from_postgres():\n",
    "    connection = psycopg2.connect(\n",
    "        host=\"localhost\",\n",
    "        user=\"postgres\",\n",
    "        password=\"237132\",\n",
    "        database=\"tellco\"\n",
    "    )\n",
    "    query = \"SELECT * FROM user_satisfaction_data LIMIT 5;\"\n",
    "    df = pd.read_sql(query, connection)\n",
    "    connection.close()\n",
    "    return df\n",
    "\n",
    "output_df = query_from_postgres()\n",
    "print(\"Sample data from PostgreSQL:\\n\", output_df)"
   ]
  },
  {
   "cell_type": "code",
   "execution_count": null,
   "id": "1c65ef05-765e-4301-8c7e-23329fbe64cf",
   "metadata": {},
   "outputs": [],
   "source": []
  }
 ],
 "metadata": {
  "kernelspec": {
   "display_name": "Python 3 (ipykernel)",
   "language": "python",
   "name": "python3"
  },
  "language_info": {
   "codemirror_mode": {
    "name": "ipython",
    "version": 3
   },
   "file_extension": ".py",
   "mimetype": "text/x-python",
   "name": "python",
   "nbconvert_exporter": "python",
   "pygments_lexer": "ipython3",
   "version": "3.11.7"
  }
 },
 "nbformat": 4,
 "nbformat_minor": 5
}
